{
 "cells": [
  {
   "cell_type": "code",
   "execution_count": 1,
   "id": "0c012017",
   "metadata": {},
   "outputs": [
    {
     "name": "stdout",
     "output_type": "stream",
     "text": [
      "Type your first name: HAKAN\n",
      "Hello, Hakan! The password is: W@12\n"
     ]
    }
   ],
   "source": [
    "name = input(\"Type your first name: \").lower().strip()\n",
    "user_info = {\"user_name\" : \"hakan\", \"password\" : \"W@12\"}\n",
    "\n",
    "if name == user_info['user_name']:\n",
    "    print(f\"Hello, {name.title()}! The password is: {user_info['password']}\")\n",
    "else:\n",
    "    print(f\"Hello, {name.title()}! See you later.\")"
   ]
  }
 ],
 "metadata": {
  "kernelspec": {
   "display_name": "Python 3 (ipykernel)",
   "language": "python",
   "name": "python3"
  },
  "language_info": {
   "codemirror_mode": {
    "name": "ipython",
    "version": 3
   },
   "file_extension": ".py",
   "mimetype": "text/x-python",
   "name": "python",
   "nbconvert_exporter": "python",
   "pygments_lexer": "ipython3",
   "version": "3.9.13"
  }
 },
 "nbformat": 4,
 "nbformat_minor": 5
}
